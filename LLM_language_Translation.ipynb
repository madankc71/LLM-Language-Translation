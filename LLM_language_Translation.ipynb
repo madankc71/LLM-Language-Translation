{
  "nbformat": 4,
  "nbformat_minor": 0,
  "metadata": {
    "colab": {
      "provenance": [],
      "authorship_tag": "ABX9TyPc/sV69HcjPDK5jyy1VW9t"
    },
    "kernelspec": {
      "name": "python3",
      "display_name": "Python 3"
    },
    "language_info": {
      "name": "python"
    }
  },
  "cells": [
    {
      "cell_type": "markdown",
      "source": [],
      "metadata": {
        "id": "cAziSmFDPi9x"
      }
    },
    {
      "cell_type": "markdown",
      "source": [
        "Import library\n"
      ],
      "metadata": {
        "id": "nbsp__WfPkq7"
      }
    },
    {
      "cell_type": "code",
      "execution_count": 16,
      "metadata": {
        "id": "v5T9K3PIjH32"
      },
      "outputs": [],
      "source": [
        "from transformers import AutoModelForSeq2SeqLM, AutoTokenizer"
      ]
    },
    {
      "cell_type": "markdown",
      "source": [
        "Load the model and tokenizer"
      ],
      "metadata": {
        "id": "Fj8CZM5oPfUy"
      }
    },
    {
      "cell_type": "code",
      "source": [
        "\n",
        "# Load pre-trained model and tokenizer\n",
        "model_name = \"facebook/m2m100_418M\"\n",
        "tokenizer = AutoTokenizer.from_pretrained(model_name)\n",
        "model = AutoModelForSeq2SeqLM.from_pretrained(model_name)"
      ],
      "metadata": {
        "id": "XOm2fQD0kL-l",
        "colab": {
          "base_uri": "https://localhost:8080/"
        },
        "outputId": "a8961d4a-5060-419e-89d3-9599ff2e7ce0"
      },
      "execution_count": 17,
      "outputs": [
        {
          "output_type": "stream",
          "name": "stderr",
          "text": [
            "/usr/local/lib/python3.10/dist-packages/transformers/tokenization_utils_base.py:1601: FutureWarning: `clean_up_tokenization_spaces` was not set. It will be set to `True` by default. This behavior will be depracted in transformers v4.45, and will be then set to `False` by default. For more details check this issue: https://github.com/huggingface/transformers/issues/31884\n",
            "  warnings.warn(\n"
          ]
        }
      ]
    },
    {
      "cell_type": "markdown",
      "source": [
        "Preprocess the data"
      ],
      "metadata": {
        "id": "hOvdEpOEPaG4"
      }
    },
    {
      "cell_type": "code",
      "source": [
        "# Define input text\n",
        "input_text = \"Nepal is my homecountry.\"\n",
        "\n",
        "# Preprocess input text\n",
        "input_ids = tokenizer.encode(input_text, return_tensors=\"pt\")"
      ],
      "metadata": {
        "id": "KOOz4d8cPCVu"
      },
      "execution_count": 18,
      "outputs": []
    },
    {
      "cell_type": "markdown",
      "source": [
        "Generate translation into Nepali."
      ],
      "metadata": {
        "id": "D2VgLZ6qPTb9"
      }
    },
    {
      "cell_type": "code",
      "source": [
        "output_ids = model.generate(input_ids, forced_bos_token_id=tokenizer.lang_code_to_id[\"ne\"])"
      ],
      "metadata": {
        "id": "P03r8a-TPGkW"
      },
      "execution_count": 19,
      "outputs": []
    },
    {
      "cell_type": "markdown",
      "source": [
        "Decode translation"
      ],
      "metadata": {
        "id": "Bf3UQLZrPP-9"
      }
    },
    {
      "cell_type": "code",
      "source": [
        "translation = tokenizer.decode(output_ids[0], skip_special_tokens=True)"
      ],
      "metadata": {
        "id": "ZH2kOw8uPNTY"
      },
      "execution_count": 20,
      "outputs": []
    },
    {
      "cell_type": "code",
      "source": [
        "print(\"In English: \", input_text)\n",
        "print(\"In Nepali:\", translation)"
      ],
      "metadata": {
        "colab": {
          "base_uri": "https://localhost:8080/"
        },
        "id": "MDbKJt1oPIwA",
        "outputId": "c66b6b3c-23ef-4956-a896-1313e3ede18d"
      },
      "execution_count": 21,
      "outputs": [
        {
          "output_type": "stream",
          "name": "stdout",
          "text": [
            "In English:  Nepal is my homecountry.\n",
            "In Nepali: नेपाल मेरो देश हो ।\n"
          ]
        }
      ]
    }
  ]
}